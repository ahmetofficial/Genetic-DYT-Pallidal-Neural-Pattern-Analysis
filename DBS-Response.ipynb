{
 "cells": [
  {
   "cell_type": "code",
   "execution_count": 5,
   "id": "6e93cec1-4be9-4592-9a25-4aa152478915",
   "metadata": {},
   "outputs": [],
   "source": [
    "import pandas as pd\n",
    "import numpy as np\n",
    "import scikit_posthocs as sp"
   ]
  },
  {
   "cell_type": "code",
   "execution_count": 15,
   "id": "80267294-f030-4a88-a93f-61f9702a2fcf",
   "metadata": {},
   "outputs": [],
   "source": [
    "pre_op         = [23.0,32.0,54.5,52.5,88.0,63.0,12.0,17.0,32.5,45.0,60.5,89.5,27.0,39.0,29.5,43.0,25.0,36.0,23.5,59.0,30.5,34.0,28.0,11.5,16.0,26.0,24.0,78.5,96.0,25.0,66.5]\n",
    "post_op        = [13.5,15.5,19.0,22.5,28.0,65.0,8.0,20.0,5.0,20.0,31.0,80.0,10.0,5.0,4.0,4.0,18.0,19.0,10.0,17.5,24.5,3.0,14.0,10.5,2.5,22.0,14.0,74.5,80.0,19.0,60.5]\n",
    "diff_perc      = (np.array(post_op)-np.array(pre_op))/np.array(pre_op)*100"
   ]
  },
  {
   "cell_type": "code",
   "execution_count": 17,
   "id": "0c90ba11-d8da-4f94-95d1-9edb21cca724",
   "metadata": {},
   "outputs": [],
   "source": [
    "df             =  pd.DataFrame()\n",
    "df[\"gene\"]     = [\"VPS16\",\"VPS16\",\"SGCE\",\"VPS16\",\"VPS16\",\"AOPEP\",\"SGCE\",\"THAP1\",\"THAP1\",\"THAP1\",\"THAP1\",\n",
    "                  \"PANK2\",\"KMT2B\",\"TOR1A\",\"TOR1A\",\"TOR1A\",\"TOR1A\",\"TOR1A\",\"TOR1A\",\"TOR1A\",\"TOR1A\",\"TOR1A\",\n",
    "                  \"KMT2B\",\"SGCE\",\"SGCE\",\"GNAL\",\"GNAL\",\"PANK2\",\"PANK2\",\"VPS16\",\"PLA2G6\"]\n",
    "df[\"response\"] = diff_perc\n",
    "df['group']    = df['gene'].apply(lambda x: 'high_tonic' if x in ['AOPEP', 'PANK2', 'THAP1'] else 'low_tonic')"
   ]
  },
  {
   "cell_type": "code",
   "execution_count": 19,
   "id": "0ea5ce70-a526-443e-acb7-8045463d461e",
   "metadata": {},
   "outputs": [
    {
     "data": {
      "text/plain": [
       "-51.5625"
      ]
     },
     "execution_count": 19,
     "metadata": {},
     "output_type": "execute_result"
    }
   ],
   "source": [
    "df[df['group']==\"low_tonic\"].response.median()"
   ]
  },
  {
   "cell_type": "code",
   "execution_count": 21,
   "id": "a33d2701-553b-45c0-ac84-35539bde0601",
   "metadata": {},
   "outputs": [
    {
     "data": {
      "text/plain": [
       "-13.640595903165735"
      ]
     },
     "execution_count": 21,
     "metadata": {},
     "output_type": "execute_result"
    }
   ],
   "source": [
    "df[df['group']==\"high_tonic\"].response.median()"
   ]
  },
  {
   "cell_type": "code",
   "execution_count": 29,
   "id": "bed03da5-bcec-46ce-aefe-fb9d737c1771",
   "metadata": {},
   "outputs": [
    {
     "data": {
      "text/html": [
       "<div>\n",
       "<style scoped>\n",
       "    .dataframe tbody tr th:only-of-type {\n",
       "        vertical-align: middle;\n",
       "    }\n",
       "\n",
       "    .dataframe tbody tr th {\n",
       "        vertical-align: top;\n",
       "    }\n",
       "\n",
       "    .dataframe thead th {\n",
       "        text-align: right;\n",
       "    }\n",
       "</style>\n",
       "<table border=\"1\" class=\"dataframe\">\n",
       "  <thead>\n",
       "    <tr style=\"text-align: right;\">\n",
       "      <th></th>\n",
       "      <th>high_tonic</th>\n",
       "      <th>low_tonic</th>\n",
       "    </tr>\n",
       "  </thead>\n",
       "  <tbody>\n",
       "    <tr>\n",
       "      <th>high_tonic</th>\n",
       "      <td>1.000000</td>\n",
       "      <td>0.019064</td>\n",
       "    </tr>\n",
       "    <tr>\n",
       "      <th>low_tonic</th>\n",
       "      <td>0.019064</td>\n",
       "      <td>1.000000</td>\n",
       "    </tr>\n",
       "  </tbody>\n",
       "</table>\n",
       "</div>"
      ],
      "text/plain": [
       "            high_tonic  low_tonic\n",
       "high_tonic    1.000000   0.019064\n",
       "low_tonic     0.019064   1.000000"
      ]
     },
     "execution_count": 29,
     "metadata": {},
     "output_type": "execute_result"
    }
   ],
   "source": [
    "sp.posthoc_mannwhitney(df, val_col=\"response\", group_col=\"group\", alternative=\"greater\")"
   ]
  },
  {
   "cell_type": "code",
   "execution_count": null,
   "id": "928e27be-8c3b-4633-81ea-05af4b044056",
   "metadata": {},
   "outputs": [],
   "source": []
  }
 ],
 "metadata": {
  "kernelspec": {
   "display_name": "Python 3 (ipykernel)",
   "language": "python",
   "name": "python3"
  },
  "language_info": {
   "codemirror_mode": {
    "name": "ipython",
    "version": 3
   },
   "file_extension": ".py",
   "mimetype": "text/x-python",
   "name": "python",
   "nbconvert_exporter": "python",
   "pygments_lexer": "ipython3",
   "version": "3.9.19"
  }
 },
 "nbformat": 4,
 "nbformat_minor": 5
}
