{
 "cells": [
  {
   "cell_type": "code",
   "execution_count": 1,
   "id": "19b6cc4b-7ecc-4a60-9991-d64d83a03bf7",
   "metadata": {},
   "outputs": [],
   "source": [
    "import pandas as pd\n",
    "import numpy as np\n",
    "import math\n",
    "from os.path import exists\n",
    "import seaborn as sns\n",
    "import matplotlib.pyplot as plt\n",
    "import matplotlib.patches as mpatches\n",
    "from decimal import Decimal\n",
    "from matplotlib.colors import BoundaryNorm\n",
    "from matplotlib.patches import Rectangle\n",
    "\n",
    "from scipy import stats\n",
    "import statsmodels.stats.multitest\n",
    "from decimal import Decimal\n",
    "import collections\n",
    "\n",
    "from sklearn import preprocessing\n",
    "from sklearn.preprocessing import StandardScaler\n",
    "from statsmodels.stats.multitest import multipletests\n",
    "\n",
    "import pickle \n",
    "from matplotlib import rcParams\n",
    "\n",
    "import warnings\n",
    "warnings.filterwarnings('ignore')\n",
    "\n",
    "import utils_statistics"
   ]
  },
  {
   "cell_type": "markdown",
   "id": "8ed01350-35f2-4008-86ee-85e8c1a52a3f",
   "metadata": {},
   "source": [
    "# 1. Data Loading"
   ]
  },
  {
   "cell_type": "code",
   "execution_count": 3,
   "id": "a2a8c1dc-22b8-43f3-abb3-4cebcfd16920",
   "metadata": {},
   "outputs": [],
   "source": [
    "dystonia_genetics   = pd.read_csv('dataset/genetic_dystonia_pallidal_neuron_activity.csv')\n",
    "dystonia_genetics   = dystonia_genetics[dystonia_genetics.patient!=\"patient1\"] # removing benign-SGCE case\n",
    "\n",
    "# fill np.nan values with 0\n",
    "dystonia_genetics   = dystonia_genetics.fillna(0)\n",
    "\n",
    "gene_class_original = {'AOPEP':1, 'GNAL'  :2, 'KMT2B':3,\n",
    "                       'PANK2':4, 'PLA2G6':5, 'SGCE' :6, \n",
    "                       'THAP1':7, 'TOR1A' :8, 'VPS16':9}\n",
    "\n",
    "genes               = ['AOPEP', 'GNAL', 'KMT2B', 'PANK2', 'PLA2G6', 'SGCE', 'THAP1', 'TOR1A', 'VPS16'];\n",
    "classification      = ''.join(map(str, [gene_class_original[gene] for gene in genes]))\n",
    "gene_class_map      = dict(zip(genes, [number+1 for number in range(len(genes))]))\n",
    "\n",
    "gene_data           = {}\n",
    "gene_data[\"AOPEP\"]  = dystonia_genetics[dystonia_genetics.gene == \"AOPEP\"]\n",
    "gene_data[\"GNAL\"]   = dystonia_genetics[dystonia_genetics.gene == \"GNAL\"]\n",
    "gene_data[\"KMT2B\"]  = dystonia_genetics[dystonia_genetics.gene == \"KMT2B\"]\n",
    "gene_data[\"PANK2\"]  = dystonia_genetics[dystonia_genetics.gene == \"PANK2\"]\n",
    "gene_data[\"PLA2G6\"] = dystonia_genetics[dystonia_genetics.gene == \"PLA2G6\"]\n",
    "gene_data[\"SGCE\"]   = dystonia_genetics[dystonia_genetics.gene == \"SGCE\"]\n",
    "gene_data[\"THAP1\"]  = dystonia_genetics[dystonia_genetics.gene == \"THAP1\"]\n",
    "gene_data[\"TOR1A\"]  = dystonia_genetics[dystonia_genetics.gene == \"TOR1A\"]\n",
    "gene_data[\"VPS16\"]  = dystonia_genetics[dystonia_genetics.gene == \"VPS16\"]"
   ]
  },
  {
   "cell_type": "markdown",
   "id": "b02f9f73-bb38-47a2-852b-49a1e1a0cdc3",
   "metadata": {},
   "source": [
    "# 2. Stratify by Thresholding"
   ]
  },
  {
   "cell_type": "code",
   "execution_count": 5,
   "id": "b36046ff-e434-4100-aace-060bf63834e5",
   "metadata": {},
   "outputs": [],
   "source": [
    "def correct_pvalues(group):\n",
    "    group['pvalue_corrected'] = multipletests(group['pvalue'], method='fdr_bh')[1]\n",
    "    return group\n",
    "    \n",
    "def fisher_exact_text(dataset, group_feature, comparison_feature):\n",
    "    from scipy.stats import fisher_exact\n",
    "    \n",
    "    fe_res = pd.DataFrame(columns=[\"group_1\",\"group_2\",\"pvalue\"])\n",
    "    groups = list(dataset[group_feature].unique())\n",
    "    for i in range(len(groups)):\n",
    "        for j in range(len(groups)):\n",
    "            row               = {}\n",
    "            group_1           = groups[i]\n",
    "            group_2           = groups[j]\n",
    "            if(group_1!=group_2):\n",
    "                x         = pd.crosstab(index=dataset[group_feature], columns=dataset[comparison_feature])\n",
    "                con_table = x.loc[[group_1, group_2]]\n",
    "                pvalue    = stats.fisher_exact(con_table, alternative=\"greater\").pvalue\n",
    "                row[\"group_1\"]    = group_1\n",
    "                row[\"group_2\"]    = group_2\n",
    "                row[\"pvalue\"]     = pvalue\n",
    "                fe_res.loc[len(fe_res)] = row\n",
    "\n",
    "    # apply correction for each gene individually\n",
    "    fe_res = fe_res.groupby('group_1').apply(correct_pvalues)\n",
    "    fe_res.reset_index(drop=True, inplace=True)\n",
    "    fe_res = fe_res[fe_res.pvalue_corrected<=0.05]\n",
    "    return fe_res"
   ]
  },
  {
   "cell_type": "code",
   "execution_count": 6,
   "id": "db3f8d49-256a-485f-8bd7-7b850b5cc78b",
   "metadata": {},
   "outputs": [],
   "source": [
    "# significance denotes that group_1 gene presented the selected phenomena significantly less than the group_2 gene\n",
    "\n",
    "df_bursting    = fisher_exact_text(dystonia_genetics, group_feature=\"gene\", comparison_feature=\"is_bursting\")\n",
    "df_tonicity    = fisher_exact_text(dystonia_genetics, group_feature=\"gene\", comparison_feature=\"is_tonic\")\n",
    "df_irregular   = fisher_exact_text(dystonia_genetics, group_feature=\"gene\", comparison_feature=\"is_irregular\")\n",
    "df_oscillatory = fisher_exact_text(dystonia_genetics, group_feature=\"gene\", comparison_feature=\"is_oscillatory\")"
   ]
  },
  {
   "cell_type": "code",
   "execution_count": 7,
   "id": "5eaf0ddf-4f7f-4675-9055-5e046226c365",
   "metadata": {},
   "outputs": [
    {
     "data": {
      "text/html": [
       "<div>\n",
       "<style scoped>\n",
       "    .dataframe tbody tr th:only-of-type {\n",
       "        vertical-align: middle;\n",
       "    }\n",
       "\n",
       "    .dataframe tbody tr th {\n",
       "        vertical-align: top;\n",
       "    }\n",
       "\n",
       "    .dataframe thead th {\n",
       "        text-align: right;\n",
       "    }\n",
       "</style>\n",
       "<table border=\"1\" class=\"dataframe\">\n",
       "  <thead>\n",
       "    <tr style=\"text-align: right;\">\n",
       "      <th></th>\n",
       "      <th>group_1</th>\n",
       "      <th>group_2</th>\n",
       "      <th>pvalue</th>\n",
       "      <th>pvalue_corrected</th>\n",
       "    </tr>\n",
       "  </thead>\n",
       "  <tbody>\n",
       "    <tr>\n",
       "      <th>2</th>\n",
       "      <td>AOPEP</td>\n",
       "      <td>KMT2B</td>\n",
       "      <td>5.600881e-06</td>\n",
       "      <td>2.240352e-05</td>\n",
       "    </tr>\n",
       "    <tr>\n",
       "      <th>3</th>\n",
       "      <td>AOPEP</td>\n",
       "      <td>TOR1A</td>\n",
       "      <td>2.291631e-02</td>\n",
       "      <td>3.055509e-02</td>\n",
       "    </tr>\n",
       "    <tr>\n",
       "      <th>4</th>\n",
       "      <td>AOPEP</td>\n",
       "      <td>VPS16</td>\n",
       "      <td>1.597924e-02</td>\n",
       "      <td>2.556678e-02</td>\n",
       "    </tr>\n",
       "    <tr>\n",
       "      <th>5</th>\n",
       "      <td>AOPEP</td>\n",
       "      <td>SGCE</td>\n",
       "      <td>2.411595e-06</td>\n",
       "      <td>1.929276e-05</td>\n",
       "    </tr>\n",
       "    <tr>\n",
       "      <th>6</th>\n",
       "      <td>AOPEP</td>\n",
       "      <td>GNAL</td>\n",
       "      <td>5.354551e-05</td>\n",
       "      <td>1.427880e-04</td>\n",
       "    </tr>\n",
       "    <tr>\n",
       "      <th>7</th>\n",
       "      <td>AOPEP</td>\n",
       "      <td>PLA2G6</td>\n",
       "      <td>7.883600e-05</td>\n",
       "      <td>1.576720e-04</td>\n",
       "    </tr>\n",
       "    <tr>\n",
       "      <th>25</th>\n",
       "      <td>PANK2</td>\n",
       "      <td>KMT2B</td>\n",
       "      <td>1.068462e-07</td>\n",
       "      <td>4.273848e-07</td>\n",
       "    </tr>\n",
       "    <tr>\n",
       "      <th>26</th>\n",
       "      <td>PANK2</td>\n",
       "      <td>TOR1A</td>\n",
       "      <td>2.193348e-02</td>\n",
       "      <td>2.924463e-02</td>\n",
       "    </tr>\n",
       "    <tr>\n",
       "      <th>27</th>\n",
       "      <td>PANK2</td>\n",
       "      <td>VPS16</td>\n",
       "      <td>1.294384e-02</td>\n",
       "      <td>2.071015e-02</td>\n",
       "    </tr>\n",
       "    <tr>\n",
       "      <th>28</th>\n",
       "      <td>PANK2</td>\n",
       "      <td>SGCE</td>\n",
       "      <td>9.504921e-10</td>\n",
       "      <td>7.603937e-09</td>\n",
       "    </tr>\n",
       "    <tr>\n",
       "      <th>29</th>\n",
       "      <td>PANK2</td>\n",
       "      <td>GNAL</td>\n",
       "      <td>1.158881e-05</td>\n",
       "      <td>2.317762e-05</td>\n",
       "    </tr>\n",
       "    <tr>\n",
       "      <th>30</th>\n",
       "      <td>PANK2</td>\n",
       "      <td>PLA2G6</td>\n",
       "      <td>2.656816e-06</td>\n",
       "      <td>7.084841e-06</td>\n",
       "    </tr>\n",
       "    <tr>\n",
       "      <th>49</th>\n",
       "      <td>THAP1</td>\n",
       "      <td>KMT2B</td>\n",
       "      <td>7.521772e-05</td>\n",
       "      <td>3.008709e-04</td>\n",
       "    </tr>\n",
       "    <tr>\n",
       "      <th>52</th>\n",
       "      <td>THAP1</td>\n",
       "      <td>SGCE</td>\n",
       "      <td>2.243224e-05</td>\n",
       "      <td>1.794579e-04</td>\n",
       "    </tr>\n",
       "    <tr>\n",
       "      <th>53</th>\n",
       "      <td>THAP1</td>\n",
       "      <td>GNAL</td>\n",
       "      <td>7.805626e-04</td>\n",
       "      <td>2.081500e-03</td>\n",
       "    </tr>\n",
       "    <tr>\n",
       "      <th>54</th>\n",
       "      <td>THAP1</td>\n",
       "      <td>PLA2G6</td>\n",
       "      <td>1.184540e-03</td>\n",
       "      <td>2.369080e-03</td>\n",
       "    </tr>\n",
       "    <tr>\n",
       "      <th>58</th>\n",
       "      <td>TOR1A</td>\n",
       "      <td>KMT2B</td>\n",
       "      <td>3.186738e-06</td>\n",
       "      <td>1.274695e-05</td>\n",
       "    </tr>\n",
       "    <tr>\n",
       "      <th>60</th>\n",
       "      <td>TOR1A</td>\n",
       "      <td>SGCE</td>\n",
       "      <td>2.377479e-10</td>\n",
       "      <td>1.901983e-09</td>\n",
       "    </tr>\n",
       "    <tr>\n",
       "      <th>61</th>\n",
       "      <td>TOR1A</td>\n",
       "      <td>GNAL</td>\n",
       "      <td>4.302562e-04</td>\n",
       "      <td>8.605124e-04</td>\n",
       "    </tr>\n",
       "    <tr>\n",
       "      <th>62</th>\n",
       "      <td>TOR1A</td>\n",
       "      <td>PLA2G6</td>\n",
       "      <td>8.287937e-05</td>\n",
       "      <td>2.210117e-04</td>\n",
       "    </tr>\n",
       "    <tr>\n",
       "      <th>66</th>\n",
       "      <td>VPS16</td>\n",
       "      <td>KMT2B</td>\n",
       "      <td>1.818475e-05</td>\n",
       "      <td>7.273901e-05</td>\n",
       "    </tr>\n",
       "    <tr>\n",
       "      <th>68</th>\n",
       "      <td>VPS16</td>\n",
       "      <td>SGCE</td>\n",
       "      <td>2.190690e-08</td>\n",
       "      <td>1.752552e-07</td>\n",
       "    </tr>\n",
       "    <tr>\n",
       "      <th>69</th>\n",
       "      <td>VPS16</td>\n",
       "      <td>GNAL</td>\n",
       "      <td>1.072046e-03</td>\n",
       "      <td>2.144091e-03</td>\n",
       "    </tr>\n",
       "    <tr>\n",
       "      <th>70</th>\n",
       "      <td>VPS16</td>\n",
       "      <td>PLA2G6</td>\n",
       "      <td>4.831143e-04</td>\n",
       "      <td>1.288305e-03</td>\n",
       "    </tr>\n",
       "  </tbody>\n",
       "</table>\n",
       "</div>"
      ],
      "text/plain": [
       "   group_1 group_2        pvalue  pvalue_corrected\n",
       "2    AOPEP   KMT2B  5.600881e-06      2.240352e-05\n",
       "3    AOPEP   TOR1A  2.291631e-02      3.055509e-02\n",
       "4    AOPEP   VPS16  1.597924e-02      2.556678e-02\n",
       "5    AOPEP    SGCE  2.411595e-06      1.929276e-05\n",
       "6    AOPEP    GNAL  5.354551e-05      1.427880e-04\n",
       "7    AOPEP  PLA2G6  7.883600e-05      1.576720e-04\n",
       "25   PANK2   KMT2B  1.068462e-07      4.273848e-07\n",
       "26   PANK2   TOR1A  2.193348e-02      2.924463e-02\n",
       "27   PANK2   VPS16  1.294384e-02      2.071015e-02\n",
       "28   PANK2    SGCE  9.504921e-10      7.603937e-09\n",
       "29   PANK2    GNAL  1.158881e-05      2.317762e-05\n",
       "30   PANK2  PLA2G6  2.656816e-06      7.084841e-06\n",
       "49   THAP1   KMT2B  7.521772e-05      3.008709e-04\n",
       "52   THAP1    SGCE  2.243224e-05      1.794579e-04\n",
       "53   THAP1    GNAL  7.805626e-04      2.081500e-03\n",
       "54   THAP1  PLA2G6  1.184540e-03      2.369080e-03\n",
       "58   TOR1A   KMT2B  3.186738e-06      1.274695e-05\n",
       "60   TOR1A    SGCE  2.377479e-10      1.901983e-09\n",
       "61   TOR1A    GNAL  4.302562e-04      8.605124e-04\n",
       "62   TOR1A  PLA2G6  8.287937e-05      2.210117e-04\n",
       "66   VPS16   KMT2B  1.818475e-05      7.273901e-05\n",
       "68   VPS16    SGCE  2.190690e-08      1.752552e-07\n",
       "69   VPS16    GNAL  1.072046e-03      2.144091e-03\n",
       "70   VPS16  PLA2G6  4.831143e-04      1.288305e-03"
      ]
     },
     "execution_count": 7,
     "metadata": {},
     "output_type": "execute_result"
    }
   ],
   "source": [
    "df_bursting"
   ]
  },
  {
   "cell_type": "markdown",
   "id": "032798d9-9ec8-421e-bb03-1af0f5f3f237",
   "metadata": {},
   "source": [
    "# 2.1 Define The Thresholds"
   ]
  },
  {
   "cell_type": "code",
   "execution_count": 9,
   "id": "3becc6d3-7016-452f-8d5e-668b98899ea7",
   "metadata": {},
   "outputs": [],
   "source": [
    "def define_boundary(data, g1, g2, alternative):\n",
    "    from scipy.stats import fisher_exact\n",
    "    from scipy.stats import barnard_exact\n",
    "    gup_t     = data[g1]\n",
    "    gdown_t   = data[g2]\n",
    "    iteration = gup_t[1]\n",
    "    \n",
    "    if(alternative == \"less\"):\n",
    "        for i in range(iteration):\n",
    "            gup_t_updated     = [gup_t[0]+i, gup_t[1]-i]\n",
    "            table             = [gup_t_updated, gdown_t]\n",
    "            statistic, pvalue = fisher_exact(table, alternative='less')\n",
    "            if(pvalue >= 0.05):\n",
    "                threshold = (gup_t_updated[1]-1) / np.sum(gup_t_updated) * 100\n",
    "                break\n",
    "    else:\n",
    "        for i in range(iteration):\n",
    "            gdown_t_updated   = [gdown_t[0]-i, gdown_t[1]+i]\n",
    "            table             = [gup_t, gdown_t_updated]\n",
    "            statistic, pvalue = fisher_exact(table, alternative='greater')\n",
    "            if(pvalue >= 0.05):\n",
    "                threshold = (gdown_t_updated[1]+1) / np.sum(gdown_t_updated) * 100\n",
    "                break\n",
    "        \n",
    "    return threshold"
   ]
  },
  {
   "cell_type": "markdown",
   "id": "65684dfd-8c95-4284-83de-03a9cbc4bdd6",
   "metadata": {},
   "source": [
    "### 2.1.1 Burstiness"
   ]
  },
  {
   "cell_type": "code",
   "execution_count": 11,
   "id": "0e9c7276-dd73-4136-b6ba-7c87ce638479",
   "metadata": {},
   "outputs": [
    {
     "data": {
      "text/plain": [
       "{'KMT2B': 42.5531914893617,\n",
       " 'GNAL': 42.0,\n",
       " 'SGCE': 39.285714285714285,\n",
       " 'PLA2G6': 34.319526627218934,\n",
       " 'VPS16': 20.28985507246377,\n",
       " 'TOR1A': 19.12442396313364,\n",
       " 'THAP1': 14.864864864864865,\n",
       " 'PANK2': 10.92436974789916,\n",
       " 'AOPEP': 6.666666666666667}"
      ]
     },
     "execution_count": 11,
     "metadata": {},
     "output_type": "execute_result"
    }
   ],
   "source": [
    "ct, ct_percentage  = utils_statistics.create_cross_tab(gene_data, feature=\"is_bursting\")\n",
    "ct_percentage"
   ]
  },
  {
   "cell_type": "code",
   "execution_count": 12,
   "id": "ef6da2c5-6a0b-4552-bfa2-afb2517adf4a",
   "metadata": {},
   "outputs": [
    {
     "data": {
      "text/plain": [
       "26.627218934911244"
      ]
     },
     "execution_count": 12,
     "metadata": {},
     "output_type": "execute_result"
    }
   ],
   "source": [
    "high_boundary_gene = \"PLA2G6\"\n",
    "low_boundary_gene  = \"VPS16\"\n",
    "\n",
    "\n",
    "ct[\"lev_up\"]       = [0, 0] \n",
    "ct[\"lev_up\"][0]    = ct[high_boundary_gene][0]\n",
    "ct[\"lev_up\"][1]    = ct[high_boundary_gene][1]\n",
    "ct[\"lev_down\"]     = [0, 0] \n",
    "ct[\"lev_down\"][0]  = ct[low_boundary_gene][0]\n",
    "ct[\"lev_down\"][1]  = ct[low_boundary_gene][1]\n",
    "\n",
    "threshold = utils_statistics.define_boundary(data=ct, g1=\"lev_up\", g2=\"lev_down\", alternative=\"less\")\n",
    "threshold"
   ]
  },
  {
   "cell_type": "markdown",
   "id": "4edef721-9cd7-4ab2-b16a-9910050c70ed",
   "metadata": {},
   "source": [
    "### 2.1.2 Tonicity"
   ]
  },
  {
   "cell_type": "code",
   "execution_count": 14,
   "id": "f1bfbde1-f37a-40d1-a258-f17505dc93e0",
   "metadata": {},
   "outputs": [
    {
     "data": {
      "text/plain": [
       "{'THAP1': 58.108108108108105,\n",
       " 'PANK2': 44.537815126050425,\n",
       " 'AOPEP': 42.22222222222222,\n",
       " 'VPS16': 22.89855072463768,\n",
       " 'TOR1A': 22.811059907834103,\n",
       " 'KMT2B': 19.148936170212767,\n",
       " 'GNAL': 16.0,\n",
       " 'PLA2G6': 13.609467455621301,\n",
       " 'SGCE': 8.241758241758241}"
      ]
     },
     "execution_count": 14,
     "metadata": {},
     "output_type": "execute_result"
    }
   ],
   "source": [
    "ct, ct_percentage  = utils_statistics.create_cross_tab(gene_data, feature=\"is_tonic\")\n",
    "ct_percentage"
   ]
  },
  {
   "cell_type": "code",
   "execution_count": 15,
   "id": "74e7f63c-eda1-4624-869c-dc591b66354d",
   "metadata": {},
   "outputs": [
    {
     "data": {
      "text/plain": [
       "33.33333333333333"
      ]
     },
     "execution_count": 15,
     "metadata": {},
     "output_type": "execute_result"
    }
   ],
   "source": [
    "high_boundary_gene = \"AOPEP\"\n",
    "low_boundary_gene  = \"VPS16\"\n",
    "\n",
    "\n",
    "ct[\"lev_up\"]       = [0, 0] \n",
    "ct[\"lev_up\"][0]    = ct[high_boundary_gene][0]\n",
    "ct[\"lev_up\"][1]    = ct[high_boundary_gene][1]\n",
    "ct[\"lev_down\"]     = [0, 0] \n",
    "ct[\"lev_down\"][0]  = ct[low_boundary_gene][0]\n",
    "ct[\"lev_down\"][1]  = ct[low_boundary_gene][1]\n",
    "\n",
    "threshold = utils_statistics.define_boundary(data=ct, g1=\"lev_up\", g2=\"lev_down\", alternative=\"less\")\n",
    "threshold"
   ]
  },
  {
   "cell_type": "markdown",
   "id": "8c83b021-a509-4918-9a5d-814bfef619a1",
   "metadata": {},
   "source": [
    "# 3. Stratify by Distance"
   ]
  },
  {
   "cell_type": "code",
   "execution_count": 17,
   "id": "fad90a19-5bcd-4e4e-a12e-c06aedd0b201",
   "metadata": {},
   "outputs": [],
   "source": [
    "from scipy.spatial.distance import jensenshannon\n",
    "from sklearn.metrics import davies_bouldin_score\n",
    "from sklearn.metrics import silhouette_score\n",
    "from scipy.cluster.hierarchy import dendrogram, linkage\n",
    "import matplotlib.pyplot as plt"
   ]
  },
  {
   "cell_type": "code",
   "execution_count": 18,
   "id": "c810df36-72bf-4408-b464-67cf90b083aa",
   "metadata": {},
   "outputs": [],
   "source": [
    "features_all        = ['firing_rate', 'firing_regularity', 'cv', 'lv', 'isi_mean', 'isi_std',\n",
    "                       'isi_skewness', 'isi_rho', 'pause_index', 'pause_ratio',\n",
    "                       'asymmetry_index', 'burst_index', 'burst_average_spikes', 'burst_spike_proportion',\n",
    "                       'burst_duration', 'inter_burst_duration', 'burst_freq', 'burst_count',\n",
    "                       'pause_freq', 'pause_duration', 'pause_time_proportion',\n",
    "                       'pause_spike_proportion', 'pause_count', 'oscillation_frequency_delta_band', 'oscillation_frequency_theta_band',\n",
    "                       'oscillation_frequency_alpha_band', 'oscillation_frequency_beta_band',\n",
    "                       'oscillation_frequency_gamma_band', 'is_bursting', 'is_tonic',\n",
    "                       'is_irregular', 'delta_band_oscillatory', 'theta_band_oscillatory',\n",
    "                       'alpha_band_oscillatory', 'beta_band_oscillatory','gamma_band_oscillatory', 'is_oscillatory']\n",
    "\n",
    "\n",
    "features_regularity  = ['firing_regularity', 'cv', 'lv', 'isi_std', 'isi_skewness', 'isi_rho', 'pause_index', 'pause_ratio', 'asymmetry_index', 'is_tonic', 'is_irregular']\n",
    "features_burst       = ['is_bursting', 'burst_index', 'burst_average_spikes', 'burst_spike_proportion','burst_duration', 'inter_burst_duration', 'burst_freq', 'burst_count']\n",
    "features_pause       = ['pause_freq', 'pause_duration', 'pause_time_proportion','pause_spike_proportion', 'pause_count']\n",
    "features_oscillation = ['oscillation_frequency_delta_band', 'oscillation_frequency_theta_band','oscillation_frequency_alpha_band', \n",
    "                        'oscillation_frequency_beta_band', 'oscillation_frequency_gamma_band', 'delta_band_oscillatory', 'theta_band_oscillatory',\n",
    "                        'alpha_band_oscillatory', 'beta_band_oscillatory', 'gamma_band_oscillatory', 'is_oscillatory']\n",
    "features_pattern     = ['is_tonic', 'is_irregular', 'is_bursting', 'is_oscillatory']\n"
   ]
  },
  {
   "cell_type": "code",
   "execution_count": 19,
   "id": "ad786e6c-f0a3-4e33-832c-224ed1eb7d9b",
   "metadata": {},
   "outputs": [],
   "source": [
    "js_distances = {} \n",
    "\n",
    "for feature in features_all:\n",
    "    biomarker_distances = pd.DataFrame(data=np.zeros(shape=(len(genes),len(genes))), columns=genes, index=genes)\n",
    "    for gene1 in genes:\n",
    "        for gene2 in genes:\n",
    "            pop1    = gene_data[gene1][feature]\n",
    "            pop2    = gene_data[gene2][feature]\n",
    "            bins    = np.linspace(dystonia_genetics[feature].min(), dystonia_genetics[feature].max(), 20)\n",
    "            pdf1, _ = np.histogram(pop1, bins=bins, density=True)\n",
    "            pdf2, _ = np.histogram(pop2, bins=bins, density=True)\n",
    "            jsd     = jensenshannon(pdf1, pdf2)\n",
    "            biomarker_distances.at[gene1,gene2] = jsd\n",
    "    js_distances[feature] = biomarker_distances"
   ]
  },
  {
   "cell_type": "markdown",
   "id": "6d48326e-a82e-4517-9e87-93d34ff8eb29",
   "metadata": {},
   "source": [
    "## 3.1. Burst Scores"
   ]
  },
  {
   "cell_type": "code",
   "execution_count": 21,
   "id": "ceb9e524-7250-4afd-9214-3bc01557e4fa",
   "metadata": {},
   "outputs": [],
   "source": [
    "burst_scores = pd.DataFrame(data=np.zeros(shape=(len(genes),len(genes))), columns=genes, index=genes)\n",
    "for feature in features_burst:\n",
    "    burst_scores = burst_scores.add(js_distances[feature], fill_value=0)"
   ]
  },
  {
   "cell_type": "markdown",
   "id": "c4ee3da6-9bcd-4098-830c-2ea54818832e",
   "metadata": {},
   "source": [
    "## 3.2. Regularity"
   ]
  },
  {
   "cell_type": "code",
   "execution_count": 23,
   "id": "95c69b92-bce5-47ea-a61a-6d6bae3f64ab",
   "metadata": {},
   "outputs": [],
   "source": [
    "regularity_scores = pd.DataFrame(data=np.zeros(shape=(len(genes),len(genes))), columns=genes, index=genes)\n",
    "for feature in features_regularity:\n",
    "    regularity_scores = regularity_scores.add(js_distances[feature], fill_value=0)"
   ]
  },
  {
   "cell_type": "markdown",
   "id": "d81fbf7b-63ed-4bab-b4bf-bef481b457ea",
   "metadata": {},
   "source": [
    "## 3.3. Neural Pauses"
   ]
  },
  {
   "cell_type": "code",
   "execution_count": 25,
   "id": "519cde50-88e1-4a6b-95c4-408fc8d88202",
   "metadata": {},
   "outputs": [],
   "source": [
    "pause_scores = pd.DataFrame(data=np.zeros(shape=(len(genes),len(genes))), columns=genes, index=genes)\n",
    "for feature in features_pause:\n",
    "    pause_scores = pause_scores.add(js_distances[feature], fill_value=0)"
   ]
  },
  {
   "cell_type": "markdown",
   "id": "5f8b5389-d927-493c-b2ee-08f653320b6c",
   "metadata": {},
   "source": [
    "## 3.4. Neural Oscillations"
   ]
  },
  {
   "cell_type": "code",
   "execution_count": 27,
   "id": "04187bd0-c5ae-431a-9fe3-0ac34be91e43",
   "metadata": {},
   "outputs": [],
   "source": [
    "oscillation_scores = pd.DataFrame(data=np.zeros(shape=(len(genes),len(genes))), columns=genes, index=genes)\n",
    "for feature in features_oscillation:\n",
    "    oscillation_scores = oscillation_scores.add(js_distances[feature], fill_value=0)"
   ]
  },
  {
   "cell_type": "markdown",
   "id": "1ff5e878-c73c-484c-8580-a5c7d547d1d9",
   "metadata": {},
   "source": [
    "## 3.5 Pattern"
   ]
  },
  {
   "cell_type": "code",
   "execution_count": 29,
   "id": "534c1222-1f40-4115-8e57-95f3c25d3dfc",
   "metadata": {},
   "outputs": [],
   "source": [
    "pattern_scores = pd.DataFrame(data=np.zeros(shape=(len(genes),len(genes))), columns=genes, index=genes)\n",
    "for feature in features_pattern:\n",
    "    pattern_scores = pattern_scores.add(js_distances[feature], fill_value=0)"
   ]
  },
  {
   "cell_type": "markdown",
   "id": "97ee4e77-a931-41a1-87cc-973c98ceb52a",
   "metadata": {},
   "source": [
    "## 3.6. Total Scores"
   ]
  },
  {
   "cell_type": "code",
   "execution_count": 31,
   "id": "e434a2d3-a29c-4017-ade1-ee05149966a7",
   "metadata": {},
   "outputs": [],
   "source": [
    "scores = pd.DataFrame(data=np.zeros(shape=(len(genes),len(genes))), columns=genes, index=genes)\n",
    "for feature in features_all:\n",
    "    scores = scores.add(js_distances[feature], fill_value=0)"
   ]
  },
  {
   "cell_type": "code",
   "execution_count": 32,
   "id": "89b9446d-9020-4bd1-9e7b-7594d50c1d09",
   "metadata": {},
   "outputs": [
    {
     "data": {
      "text/plain": [
       "<Figure size 640x480 with 0 Axes>"
      ]
     },
     "metadata": {},
     "output_type": "display_data"
    },
    {
     "data": {
      "image/png": "[encoded data removed]",
      "text/plain": [
       "<Figure size 708.661x826.772 with 12 Axes>"
      ]
     },
     "metadata": {},
     "output_type": "display_data"
    }
   ],
   "source": [
    "labelsize          = 5\n",
    "plt.rc('font', serif=\"Neue Haas Grotesk Text Pro\")\n",
    "\n",
    "fig = plt.figure()\n",
    "cm = 1/2.54  # centimeters in inches\n",
    "plt.subplots(figsize=(18*cm, 21*cm))\n",
    "\n",
    "\n",
    "ax_p1  = plt.subplot2grid((60, 80), (0, 0), colspan=18, rowspan=10)\n",
    "ax_p1d = plt.subplot2grid((60, 80), (0, 18), colspan=3, rowspan=10)\n",
    "ax_p2  = plt.subplot2grid((60, 80), (0, 26), colspan=18, rowspan=10)\n",
    "ax_p2d = plt.subplot2grid((60, 80), (0, 44), colspan=3, rowspan=10)\n",
    "ax_p3  = plt.subplot2grid((60, 80), (0, 52), colspan=18, rowspan=10)\n",
    "ax_p3d = plt.subplot2grid((60, 80), (0, 70), colspan=3, rowspan=10)\n",
    "ax_p4  = plt.subplot2grid((60, 80), (14, 0), colspan=18, rowspan=10)\n",
    "ax_p4d = plt.subplot2grid((60, 80), (14, 18), colspan=3, rowspan=10)\n",
    "ax_p5  = plt.subplot2grid((60, 80), (14, 26), colspan=18, rowspan=10)\n",
    "ax_p5d = plt.subplot2grid((60, 80), (14, 44), colspan=3, rowspan=10)\n",
    "ax_p6  = plt.subplot2grid((60, 80), (14, 52), colspan=18, rowspan=10)\n",
    "ax_p6d = plt.subplot2grid((60, 80), (14, 70), colspan=3, rowspan=10)\n",
    "\n",
    "# 1-TOTAL ------------------------------------------------------------------\n",
    "\n",
    "Z        = linkage(scores, 'average')\n",
    "reindex  = [\"SGCE\",\"PLA2G6\",\"KMT2B\",\"VPS16\",\"TOR1A\",\"GNAL\",\"PANK2\",\"AOPEP\", \"THAP1\"]\n",
    "distance = scores.copy()\n",
    "distance = distance.reindex(index = reindex)\n",
    "distance = distance[reindex]\n",
    "\n",
    "ax_p1 = sns.heatmap(distance.values, annot=distance.values, ax=ax_p1, annot_kws={\"fontsize\":labelsize}, cbar=False, cmap=\"GnBu\", fmt=\".1f\")\n",
    "ax_p1.set_xticks([i+0.5 for i in range(len(reindex))])\n",
    "ax_p1.set_yticks([i+0.5 for i in range(len(reindex))])\n",
    "ax_p1.set_xticklabels(reindex, rotation=90, fontsize=labelsize)\n",
    "ax_p1.set_yticklabels(reindex, rotation=0, fontsize=labelsize)\n",
    "ax_p1.set_title(\"All Features\", fontsize=labelsize+1, weight='bold')\n",
    "ax_p1.tick_params('both', length=0.25, width=0.25, which='major')\n",
    "ax_p1.tick_params('both', length=0.25, width=0.25, which='minor')\n",
    "dendrogram(Z, labels=[\"\",\"\",\"\",\"\",\"\",\"\",\"\",\"\",\"\"], orientation=\"right\", distance_sort=True, ax=ax_p1d)\n",
    "ax_p1d.spines['right'].set_visible(False)\n",
    "ax_p1d.spines['left'].set_visible(False)\n",
    "ax_p1d.spines['top'].set_visible(False)\n",
    "ax_p1d.spines['bottom'].set_visible(False)\n",
    "ax_p1d.tick_params('both', length=0.25, width=0.25, which='major')\n",
    "ax_p1d.tick_params('both', length=0.25, width=0.25, which='minor')\n",
    "ax_p1d.set_xticklabels(ax_p1d.get_xticklabels(), fontsize=labelsize)\n",
    "\n",
    "\n",
    "# 2-PATTERN ----------------------------------------------------------------\n",
    "Z                = linkage(pattern_scores, method='average')\n",
    "reindex          = [\"SGCE\",\"PLA2G6\",\"GNAL\",\"KMT2B\",\"VPS16\",\"TOR1A\",\"PANK2\",\"AOPEP\",\"THAP1\"]\n",
    "pattern_distance = pattern_scores.copy()\n",
    "pattern_distance = pattern_distance.reindex(index = reindex)\n",
    "pattern_distance = pattern_distance[reindex]\n",
    "\n",
    "ax_p2 = sns.heatmap(pattern_distance.values, annot=pattern_distance.values, ax=ax_p2, annot_kws={\"fontsize\":labelsize}, cbar=False, cmap=\"GnBu\", fmt=\".1f\")\n",
    "ax_p2.set_xticks([i+0.5 for i in range(len(reindex))])\n",
    "ax_p2.set_yticks([i+0.5 for i in range(len(reindex))])\n",
    "ax_p2.set_xticklabels(reindex, rotation=90, fontsize=labelsize)\n",
    "ax_p2.set_yticklabels(reindex, rotation=0, fontsize=labelsize)\n",
    "ax_p2.set_title(\"Discharge Patterns\", fontsize=labelsize+1, weight='bold')\n",
    "ax_p2.tick_params('both', length=0.25, width=0.25, which='major')\n",
    "ax_p2.tick_params('both', length=0.25, width=0.25, which='minor')\n",
    "dendrogram(Z, labels=[\"\",\"\",\"\",\"\",\"\",\"\",\"\",\"\",\"\"], orientation=\"right\", distance_sort=True, ax=ax_p2d)\n",
    "ax_p2d.spines['right'].set_visible(False)\n",
    "ax_p2d.spines['left'].set_visible(False)\n",
    "ax_p2d.spines['top'].set_visible(False)\n",
    "ax_p2d.spines['bottom'].set_visible(False)\n",
    "ax_p2d.tick_params('both', length=0.25, width=0.25, which='major')\n",
    "ax_p2d.tick_params('both', length=0.25, width=0.25, which='minor')\n",
    "ax_p2d.set_xticklabels(ax_p2d.get_xticklabels(), fontsize=labelsize)\n",
    "\n",
    "# 3-REGULARITY -------------------------------------------------------------\n",
    "Z                   = linkage(regularity_scores, 'average')\n",
    "reindex             = [\"THAP1\",\"AOPEP\",\"PANK2\",\"SGCE\",\"PLA2G6\",\"VPS16\",\"TOR1A\",\"KMT2B\",\"GNAL\"]\n",
    "regularity_distance = regularity_scores.copy()\n",
    "regularity_distance = regularity_distance.reindex(index = reindex)\n",
    "regularity_distance = regularity_distance[reindex]\n",
    "\n",
    "ax_p3 = sns.heatmap(regularity_distance.values, annot=regularity_distance.values, ax=ax_p3, annot_kws={\"fontsize\":labelsize}, cbar=False, cmap=\"GnBu\", fmt=\".1f\")\n",
    "ax_p3.set_xticks([i+0.5 for i in range(len(reindex))])\n",
    "ax_p3.set_yticks([i+0.5 for i in range(len(reindex))])\n",
    "ax_p3.set_xticklabels(reindex, rotation=90, fontsize=labelsize)\n",
    "ax_p3.set_yticklabels(reindex, rotation=0, fontsize=labelsize)\n",
    "ax_p3.set_title(\"Firing Regularity\", fontsize=labelsize+1, weight='bold')\n",
    "ax_p3.tick_params('both', length=0.25, width=0.25, which='major')\n",
    "ax_p3.tick_params('both', length=0.25, width=0.25, which='minor')\n",
    "dendrogram(Z, labels=[\"\",\"\",\"\",\"\",\"\",\"\",\"\",\"\",\"\"], orientation=\"right\", distance_sort=True, ax=ax_p3d)\n",
    "ax_p3d.spines['right'].set_visible(False)\n",
    "ax_p3d.spines['left'].set_visible(False)\n",
    "ax_p3d.spines['top'].set_visible(False)\n",
    "ax_p3d.spines['bottom'].set_visible(False)\n",
    "ax_p3d.tick_params('both', length=0.25, width=0.25, which='major')\n",
    "ax_p3d.tick_params('both', length=0.25, width=0.25, which='minor')\n",
    "ax_p3d.set_xticklabels(ax_p3d.get_xticklabels(), fontsize=labelsize)\n",
    "\n",
    "# 4-BURST ------------------------------------------------------------------\n",
    "Z              = linkage(burst_scores, method='average')\n",
    "reindex        = [\"AOPEP\",\"PANK2\",\"THAP1\",\"TOR1A\",\"VPS16\",\"SGCE\",\"PLA2G6\",\"KMT2B\",\"GNAL\"]\n",
    "burst_distance = burst_scores.copy()\n",
    "burst_distance = burst_distance.reindex(index = reindex)\n",
    "burst_distance = burst_distance[reindex]\n",
    "\n",
    "ax_p4 = sns.heatmap(burst_distance.values, annot=burst_distance.values, ax=ax_p4, annot_kws={\"fontsize\":labelsize}, cbar=False, cmap=\"GnBu\", fmt=\".1f\")\n",
    "ax_p4.set_xticks([i+0.5 for i in range(len(reindex))])\n",
    "ax_p4.set_yticks([i+0.5 for i in range(len(reindex))])\n",
    "ax_p4.set_xticklabels(reindex, rotation=90, fontsize=labelsize)\n",
    "ax_p4.set_yticklabels(reindex, rotation=0, fontsize=labelsize)\n",
    "ax_p4.set_title(\"Neural Bursts\", fontsize=labelsize+1, weight='bold')\n",
    "ax_p4.tick_params('both', length=0.25, width=0.25, which='major')\n",
    "ax_p4.tick_params('both', length=0.25, width=0.25, which='minor')\n",
    "dendrogram(Z, labels=[\"\",\"\",\"\",\"\",\"\",\"\",\"\",\"\",\"\"], orientation=\"right\", distance_sort=True, ax=ax_p4d)\n",
    "ax_p4d.spines['right'].set_visible(False)\n",
    "ax_p4d.spines['left'].set_visible(False)\n",
    "ax_p4d.spines['top'].set_visible(False)\n",
    "ax_p4d.spines['bottom'].set_visible(False)\n",
    "ax_p4d.tick_params('both', length=0.25, width=0.25, which='major')\n",
    "ax_p4d.tick_params('both', length=0.25, width=0.25, which='minor')\n",
    "ax_p4d.set_xticklabels(ax_p4d.get_xticklabels(), fontsize=labelsize)\n",
    "\n",
    "# 5-OSCILLATION ------------------------------------------------------------\n",
    "Z                    = linkage(oscillation_scores, 'average')\n",
    "reindex              = [\"GNAL\",\"PLA2G6\",\"SGCE\",\"KMT2B\",\"VPS16\",\"TOR1A\",\"THAP1\",\"PANK2\",\"AOPEP\"]\n",
    "oscillation_distance = oscillation_scores.copy()\n",
    "oscillation_distance = oscillation_distance.reindex(index = reindex)\n",
    "oscillation_distance = oscillation_distance[reindex]\n",
    "\n",
    "ax_p5 = sns.heatmap(oscillation_distance.values, annot=oscillation_distance.values, ax=ax_p5, annot_kws={\"fontsize\":labelsize}, cbar=False, cmap=\"GnBu\", fmt=\".1f\")\n",
    "ax_p5.set_xticks([i+0.5 for i in range(len(reindex))])\n",
    "ax_p5.set_yticks([i+0.5 for i in range(len(reindex))])\n",
    "ax_p5.set_xticklabels(reindex, rotation=90, fontsize=labelsize)\n",
    "ax_p5.set_yticklabels(reindex, rotation=0, fontsize=labelsize)\n",
    "ax_p5.set_title(\"Neural Oscillations\", fontsize=labelsize+1, weight='bold')\n",
    "ax_p5.tick_params('both', length=0.25, width=0.25, which='major')\n",
    "ax_p5.tick_params('both', length=0.25, width=0.25, which='minor')\n",
    "dendrogram(Z, labels=[\"\",\"\",\"\",\"\",\"\",\"\",\"\",\"\",\"\"], orientation=\"right\", distance_sort=True, ax=ax_p5d)\n",
    "ax_p5d.spines['right'].set_visible(False)\n",
    "ax_p5d.spines['left'].set_visible(False)\n",
    "ax_p5d.spines['top'].set_visible(False)\n",
    "ax_p5d.spines['bottom'].set_visible(False)\n",
    "ax_p5d.tick_params('both', length=0.25, width=0.25, which='major')\n",
    "ax_p5d.tick_params('both', length=0.25, width=0.25, which='minor')\n",
    "ax_p5d.set_xticklabels(ax_p5d.get_xticklabels(), fontsize=labelsize)\n",
    "\n",
    "# 6-PAUSE ------------------------------------------------------------------\n",
    "Z              = linkage(pause_scores, 'average')\n",
    "reindex        = [\"SGCE\",\"PLA2G6\",\"KMT2B\",\"VPS16\",\"TOR1A\",\"GNAL\",\"PANK2\",\"AOPEP\",\"THAP1\"]\n",
    "pause_distance = pause_scores.copy()\n",
    "pause_distance = pause_distance.reindex(index = reindex)\n",
    "pause_distance = pause_distance[reindex]\n",
    "\n",
    "ax_p6 = sns.heatmap(pause_distance.values, annot=pause_distance.values, ax=ax_p6, annot_kws={\"fontsize\":labelsize}, cbar=False, cmap=\"GnBu\", fmt=\".1f\")\n",
    "ax_p6.set_xticks([i+0.5 for i in range(len(reindex))])\n",
    "ax_p6.set_yticks([i+0.5 for i in range(len(reindex))])\n",
    "ax_p6.set_xticklabels(reindex, rotation=90, fontsize=labelsize)\n",
    "ax_p6.set_yticklabels(reindex, rotation=0, fontsize=labelsize)\n",
    "ax_p6.set_title(\"Neural Pauses\", fontsize=labelsize+1, weight='bold')\n",
    "ax_p6.tick_params('both', length=0.25, width=0.25, which='major')\n",
    "ax_p6.tick_params('both', length=0.25, width=0.25, which='minor')\n",
    "dendrogram(Z, labels=[\"\",\"\",\"\",\"\",\"\",\"\",\"\",\"\",\"\"], orientation=\"right\", distance_sort=True, ax=ax_p6d)\n",
    "ax_p6d.spines['right'].set_visible(False)\n",
    "ax_p6d.spines['left'].set_visible(False)\n",
    "ax_p6d.spines['top'].set_visible(False)\n",
    "ax_p6d.spines['bottom'].set_visible(False)\n",
    "ax_p6d.tick_params('both', length=0.25, width=0.25, which='major')\n",
    "ax_p6d.tick_params('both', length=0.25, width=0.25, which='minor')\n",
    "ax_p6d.set_xticklabels(ax_p6d.get_xticklabels(), fontsize=labelsize)\n",
    "\n",
    "\n",
    "plt.savefig(\"figures/Figure 3b.svg\", dpi=300)   "
   ]
  },
  {
   "cell_type": "code",
   "execution_count": null,
   "id": "83256390-9c8e-488c-acf3-62aa5877ef5a",
   "metadata": {},
   "outputs": [],
   "source": []
  },
  {
   "cell_type": "code",
   "execution_count": null,
   "id": "17afe991-42d2-4393-86e7-cd26e9e3566b",
   "metadata": {},
   "outputs": [],
   "source": []
  }
 ],
 "metadata": {
  "kernelspec": {
   "display_name": "Python 3 (ipykernel)",
   "language": "python",
   "name": "python3"
  },
  "language_info": {
   "codemirror_mode": {
    "name": "ipython",
    "version": 3
   },
   "file_extension": ".py",
   "mimetype": "text/x-python",
   "name": "python",
   "nbconvert_exporter": "python",
   "pygments_lexer": "ipython3",
   "version": "3.9.19"
  }
 },
 "nbformat": 4,
 "nbformat_minor": 5
}
